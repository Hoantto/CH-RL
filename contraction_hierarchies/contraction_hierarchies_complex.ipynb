{
 "cells": [
  {
   "cell_type": "code",
   "execution_count": 1,
   "metadata": {},
   "outputs": [],
   "source": [
    "import math\n",
    "import networkx as nx"
   ]
  },
  {
   "cell_type": "code",
   "execution_count": 2,
   "metadata": {},
   "outputs": [],
   "source": [
    "G = nx.Graph()\n",
    "G.add_node(1,contracted=False,imp=0,level=0,contr_neighbours=0)\n",
    "G.add_node(2,contracted=False,imp=0,level=0,contr_neighbours=0)\n",
    "G.add_node(3,contracted=False,imp=0,level=0,contr_neighbours=0)\n",
    "G.add_node(4,contracted=False,imp=0,level=0,contr_neighbours=0)\n",
    "G.add_node(5,contracted=False,imp=0,level=0,contr_neighbours=0)\n",
    "G.add_node(6,contracted=False,imp=0,level=0,contr_neighbours=0)\n",
    "G.add_node(7,contracted=False,imp=0,level=0,contr_neighbours=0)\n",
    "G.add_node(8,contracted=False,imp=0,level=0,contr_neighbours=0)\n",
    "G.add_node(9,contracted=False,imp=0,level=0,contr_neighbours=0)\n",
    "G.add_node(10,contracted=False,imp=0,level=0,contr_neighbours=0)\n",
    "G.add_node(11,contracted=False,imp=0,level=0,contr_neighbours=0)\n",
    "G.add_node(12,contracted=False,imp=0,level=0,contr_neighbours=0)\n",
    "G.add_node(13,contracted=False,imp=0,level=0,contr_neighbours=0)\n",
    "G.add_node(14,contracted=False,imp=0,level=0,contr_neighbours=0)\n",
    "edges = [\n",
    "    (1,2,{'weight':1}),\n",
    "    (1,3,{'weight':4}),\n",
    "    (2,3,{'weight':5}),\n",
    "    (2,4,{'weight':2}),\n",
    "    (3,4,{'weight':2}),\n",
    "    (3,7,{'weight':2}),\n",
    "    (3,8,{'weight':1}),\n",
    "    (3,9,{'weight':1}),\n",
    "    (4,5,{'weight':5}),\n",
    "    (5,10,{'weight':7}),\n",
    "    (6,7,{'weight':4}),\n",
    "    (6,8,{'weight':3}),\n",
    "    (6,10,{'weight':3}),\n",
    "    (6,5,{'weight':3}),\n",
    "    (6,9,{'weight':1}),\n",
    "    (7,8,{'weight':6}),\n",
    "    (8,9,{'weight':3}),\n",
    "    (8,13,{'weight':5}),\n",
    "    (9,12,{'weight':1}),\n",
    "    (9,10,{'weight':3}),\n",
    "    (10,11,{'weight':4}),\n",
    "    (11,12,{'weight':3}),\n",
    "    (11,13,{'weight':4}),\n",
    "    (12,13,{'weight':2}),\n",
    "    (14,1,{'weight':3}),\n",
    "    (14,13,{'weight':2})\n",
    "]\n",
    "G.add_edges_from([*edges])"
   ]
  },
  {
   "cell_type": "code",
   "execution_count": 3,
   "metadata": {},
   "outputs": [],
   "source": [
    "nx.draw(G,with_labels=True)\n",
    "edges_before = [*G.edges()]"
   ]
  },
  {
   "cell_type": "code",
   "execution_count": 4,
   "metadata": {},
   "outputs": [
    {
     "data": {
      "text/plain": [
       "NodeDataView({1: {'contracted': False, 'imp': 0, 'level': 0, 'contr_neighbours': 0}, 2: {'contracted': False, 'imp': 0, 'level': 0, 'contr_neighbours': 0}, 3: {'contracted': False, 'imp': 0, 'level': 0, 'contr_neighbours': 0}, 4: {'contracted': False, 'imp': 0, 'level': 0, 'contr_neighbours': 0}, 5: {'contracted': False, 'imp': 0, 'level': 0, 'contr_neighbours': 0}, 6: {'contracted': False, 'imp': 0, 'level': 0, 'contr_neighbours': 0}, 7: {'contracted': False, 'imp': 0, 'level': 0, 'contr_neighbours': 0}, 8: {'contracted': False, 'imp': 0, 'level': 0, 'contr_neighbours': 0}, 9: {'contracted': False, 'imp': 0, 'level': 0, 'contr_neighbours': 0}, 10: {'contracted': False, 'imp': 0, 'level': 0, 'contr_neighbours': 0}, 11: {'contracted': False, 'imp': 0, 'level': 0, 'contr_neighbours': 0}, 12: {'contracted': False, 'imp': 0, 'level': 0, 'contr_neighbours': 0}, 13: {'contracted': False, 'imp': 0, 'level': 0, 'contr_neighbours': 0}, 14: {'contracted': False, 'imp': 0, 'level': 0, 'contr_neighbours': 0}})"
      ]
     },
     "execution_count": 4,
     "metadata": {},
     "output_type": "execute_result"
    }
   ],
   "source": [
    "G.nodes.data()"
   ]
  },
  {
   "cell_type": "code",
   "execution_count": 6,
   "metadata": {},
   "outputs": [],
   "source": [
    "\n",
    "# importance priority queue\n",
    "imp_pq = list()\n",
    "order = 0"
   ]
  },
  {
   "cell_type": "code",
   "execution_count": 21,
   "metadata": {},
   "outputs": [],
   "source": [
    "\n",
    "def SetOrder(G, imp_pq, n):\n",
    "    # initialize imp_pq\n",
    "    for i in range(n):\n",
    "        imp_pq.append((-n,i+1))\n",
    "    order = 1\n",
    "    while len(imp_pq)>0:\n",
    "        # find current lowest importance node in imp_pq\n",
    "        curr_node_imp_pair = min(imp_pq, key= lambda pair:pair[0])\n",
    "        curr_node  = curr_node_imp_pair[1]   \n",
    "        imp_pq.remove(curr_node_imp_pair)\n",
    "        # get new importance for current lowest importance node\n",
    "        new_imp = GetImportance(G,curr_node)\n",
    "        # lazy update\n",
    "        if((len(imp_pq) == 0) or (new_imp - min(imp_pq,key=lambda pair:pair[0])[0]<= 10)):\n",
    "            G.nodes[curr_node]['imp'] = order\n",
    "            order +=1\n",
    "            # contract node\n",
    "            G.nodes[curr_node]['contracted'] = True\n",
    "            ContractNode(G,curr_node,n)\n",
    "            print(\"already contracted node %d\"%curr_node)\n",
    "        else:\n",
    "            imp_pq.append((new_imp,curr_node))\n",
    "            print(\"recalculated prority of node %d\" %curr_node)"
   ]
  },
  {
   "cell_type": "code",
   "execution_count": 9,
   "metadata": {},
   "outputs": [],
   "source": [
    "def GetImportance(G, x):\n",
    "    # get number of incident edges of x\n",
    "    edges_incident = len(G[x])\n",
    "    # get number of added shortcut when simulate contracting node x\n",
    "    shortcuts = 0\n",
    "    seenBefore = list()\n",
    "    for i in G[x]:\n",
    "        for j in G[x]:\n",
    "            pair = sorted((i,j))\n",
    "            if (i==j or (pair in seenBefore)):continue\n",
    "            seenBefore.append(pair)\n",
    "            if((G.nodes[i]['contracted'] == False) and (G.nodes[j]['contracted'] == False)):\n",
    "                shortcuts +=1\n",
    "    edge_difference = shortcuts - edges_incident\n",
    "    return edge_difference + 2*G.nodes[x]['contr_neighbours'] + G.nodes[x]['level']"
   ]
  },
  {
   "cell_type": "code",
   "execution_count": 10,
   "metadata": {},
   "outputs": [],
   "source": [
    "def ContractNode(G, x, n):\n",
    "    mx = GetMaxEdge(G, x)\n",
    "    seenBefore = list()\n",
    "    for i in G[x]:\n",
    "        for j in G[x]:\n",
    "            if ((G.nodes[i]['contracted'] == True) or (G.nodes[j]['contracted'])):\n",
    "                continue\n",
    "            pair = sorted((i,j))\n",
    "            if (i==j or (pair in seenBefore)):continue\n",
    "            seenBefore.append(pair)\n",
    "            Check_Witness(G, n, i, x, mx)\n",
    "    # update importance term in incident node\n",
    "    for i in G[x]:\n",
    "        G.nodes[i]['contr_neighbours'] +=1\n",
    "        G.nodes[i]['level'] = max(G.nodes[i]['level'], G.nodes[x]['level'] + 1)\n",
    "            \n",
    "    "
   ]
  },
  {
   "cell_type": "code",
   "execution_count": 11,
   "metadata": {},
   "outputs": [],
   "source": [
    "def GetMaxEdge(G, x):\n",
    "    ret = 0\n",
    "    for i in G[x]:\n",
    "        for j in G[x]:\n",
    "            if((i != j) and (G.nodes[i]['contracted'] == False) and (G.nodes[j]['contracted'] == False)):\n",
    "                ret = max(ret, G[x][i]['weight'] + G[x][j]['weight'])\n",
    "    return ret"
   ]
  },
  {
   "cell_type": "code",
   "execution_count": 12,
   "metadata": {},
   "outputs": [],
   "source": [
    "def Check_Witness(G, n, u, x, mx, type=None):\n",
    "    # dijkstra priority queue for search witness path from u to v, excludes x\n",
    "    # v is incident edge of x, excludes u\n",
    "    D_pq = list()\n",
    "    # initialize D_pq\n",
    "    D_pq.append((0, u))\n",
    "    # distance dictionary from u to any node in search tree\n",
    "    D_dist = dict()\n",
    "    # initialize D_dist\n",
    "    D_dist[u] = 0\n",
    "    # maximum iteration round for dijkstra search\n",
    "    iter = int(250 * (n - order) / n)\n",
    "    while((len(D_pq) > 0) and (iter > 0)):\n",
    "        iter -=1\n",
    "        curr_dist_pair = min(D_pq, key= lambda pair:pair[0])\n",
    "        curr_dist = curr_dist_pair[0]\n",
    "        a = curr_dist_pair[1]\n",
    "        D_pq.remove(curr_dist_pair)\n",
    "        if(curr_dist > D_dist[a]):\n",
    "            continue\n",
    "        for p in G[a]:\n",
    "            new_dist = curr_dist + G[a][p]['weight']\n",
    "            # p must not be x and not be contracted\n",
    "            if(p != x and (G.nodes[p]['contracted'] == False)):\n",
    "                # p must not be settled node or distance greater than new_dist\n",
    "                if((p not in D_dist) or (D_dist[p] > new_dist)):\n",
    "                    # prune when witness path greater than mx\n",
    "                    if(p not in D_dist):\n",
    "                        if new_dist < mx:\n",
    "                            D_dist[p] = new_dist\n",
    "                            D_pq.append((new_dist,p))\n",
    "                    else:\n",
    "                        if(D_dist[p] < mx):\n",
    "                            D_dist[p] = new_dist\n",
    "                            D_pq.append((new_dist,p))\n",
    "    for v in G[x]:\n",
    "        # v can not be u and not be contracted\n",
    "        if ((v!=u) and (G.nodes[v]['contracted'] == False)):\n",
    "            new_w = G[u][x]['weight'] + G[x][v]['weight']\n",
    "            # print(\"%d %d %d\"%(u,v,new_w))\n",
    "            if((v not in D_dist) or (D_dist[v] > new_w)):\n",
    "                # add shortcut\n",
    "                # try:\n",
    "                #     if(u,v) in G.edges:\n",
    "                #         print(\"run here: no more add_edge\")\n",
    "                #         continue\n",
    "                # except:\n",
    "                G.add_edge(u,v,weight=new_w)\n",
    "                # print(\"run here: add_edge:%d %d\"%(u,v))\n",
    "            "
   ]
  },
  {
   "cell_type": "code",
   "execution_count": 13,
   "metadata": {},
   "outputs": [],
   "source": [
    "def GetDistance(G, s, t):\n",
    "    # search with bi-dijkstra with ordering rank\n",
    "    # initializing dijkstra from source node s\n",
    "    SP_s = dict()\n",
    "    parent_s = dict()\n",
    "    unrelaxed_s = list()\n",
    "    for node in G.nodes():\n",
    "        SP_s[node] = math.inf\n",
    "        parent_s[node] = None\n",
    "        unrelaxed_s.append(node)\n",
    "    SP_s[s] = 0\n",
    "    # dijkstra forward\n",
    "    while unrelaxed_s:\n",
    "        node = min(unrelaxed_s, key= lambda node:SP_s[node])\n",
    "        unrelaxed_s.remove(node)\n",
    "        if SP_s[node] == math.inf:\n",
    "            break\n",
    "        # G[node] are the incident edges of node\n",
    "        for child in G[node]:\n",
    "            # skip unqualified edges\n",
    "            if G.nodes[child]['imp'] < G.nodes[node]['imp']:\n",
    "                continue\n",
    "            distance = SP_s[node] + G[node][child]['weight']\n",
    "            # relax edge\n",
    "            if distance < SP_s[child]:\n",
    "                SP_s[child] = distance\n",
    "                parent_s[child] = node\n",
    "    # initializing dijkstra from target node t\n",
    "    SP_t = dict()\n",
    "    parent_t = dict()\n",
    "    unrelaxed_t = list()\n",
    "    for node in G.nodes():\n",
    "        SP_t[node] = math.inf\n",
    "        parent_t[node] = None\n",
    "        unrelaxed_t.append(node)\n",
    "    SP_t[t] = 0\n",
    "\n",
    "    # dijkstra backward\n",
    "    while unrelaxed_t:\n",
    "        node = min(unrelaxed_t, key= lambda node: SP_t[node])\n",
    "        unrelaxed_t.remove(node)\n",
    "        if SP_t[node] == math.inf:\n",
    "            break\n",
    "        # G[node] are the incident edges of node\n",
    "        for child in G[node]:\n",
    "            # skip unqualified edges\n",
    "            if G.nodes[child]['imp'] < G.nodes[node]['imp']:\n",
    "                continue\n",
    "            distance = SP_t[node] + G[node][child]['weight']\n",
    "            if distance < SP_t[child]:\n",
    "                SP_t[child] = distance\n",
    "                parent_t[child] = node\n",
    "    minimum = math.inf\n",
    "    merge_node = None\n",
    "    for i in SP_s:\n",
    "        if SP_t[i] == math.inf:\n",
    "            continue\n",
    "        if SP_t[i] + SP_s[i] < minimum:\n",
    "            minimum = SP_s[i] + SP_t[i]\n",
    "            merge_node = i\n",
    "    return minimum, merge_node, SP_s, SP_t, parent_s, parent_t"
   ]
  },
  {
   "cell_type": "code",
   "execution_count": 14,
   "metadata": {},
   "outputs": [],
   "source": [
    "# see the route from origin of dijkstra to a given node\n",
    "def Route_dijkstra(parent, node):\n",
    "    route = []\n",
    "    while node != None:\n",
    "        route.append(node)\n",
    "        node = parent[node]\n",
    "    return route[::-1]"
   ]
  },
  {
   "cell_type": "code",
   "execution_count": 15,
   "metadata": {},
   "outputs": [],
   "source": [
    "def See_full_route(G, s, t):\n",
    "    minimum, merge_node, SP_s, SP_t, parent_s, parent_t = GetDistance(G, s, t)\n",
    "    print(\"shortest distance:\\n\")\n",
    "    print(minimum)\n",
    "    route_from_target = Route_dijkstra(parent_t, merge_node)\n",
    "    # show route\n",
    "    print(\"route from target:\\n\")\n",
    "    print(route_from_target)\n",
    "    route_from_source = Route_dijkstra(parent_s, merge_node)\n",
    "    # show route\n",
    "    print(\"route from source:\\n\")\n",
    "    print(route_from_source)\n",
    "    route = route_from_source + route_from_target[::-1][1:]\n",
    "    # show route\n",
    "    print(\"entire route:\\n\")\n",
    "    print(route)\n",
    "    unvisited = 0\n",
    "    for s_node, s_dist in SP_s.items():\n",
    "        for t_node, t_dist in SP_t.items():\n",
    "            if s_node == t_node and s_dist == t_dist == math.inf:\n",
    "                unvisited += 1\n",
    "    print(f\"\"\"we have skipped {unvisited} nodes from a graph with {len(G)}, \n",
    "    so we have skipped {unvisited/len(G)*100}% of the nodes in our search space.\"\"\")"
   ]
  },
  {
   "cell_type": "code",
   "execution_count": 22,
   "metadata": {},
   "outputs": [
    {
     "name": "stdout",
     "output_type": "stream",
     "text": [
      "recalculated prority of node 1\n",
      "recalculated prority of node 2\n",
      "recalculated prority of node 3\n",
      "recalculated prority of node 4\n",
      "recalculated prority of node 5\n",
      "recalculated prority of node 6\n",
      "recalculated prority of node 7\n",
      "recalculated prority of node 8\n",
      "recalculated prority of node 9\n",
      "recalculated prority of node 10\n",
      "recalculated prority of node 11\n",
      "recalculated prority of node 12\n",
      "recalculated prority of node 13\n",
      "already contracted node 14\n",
      "already contracted node 12\n",
      "already contracted node 5\n",
      "already contracted node 10\n",
      "already contracted node 4\n",
      "already contracted node 7\n",
      "already contracted node 11\n",
      "already contracted node 1\n",
      "already contracted node 2\n",
      "already contracted node 6\n",
      "already contracted node 8\n",
      "already contracted node 3\n",
      "recalculated prority of node 9\n",
      "already contracted node 13\n",
      "already contracted node 9\n"
     ]
    }
   ],
   "source": [
    "SetOrder(G, imp_pq, len(G.nodes))"
   ]
  },
  {
   "cell_type": "code",
   "execution_count": 16,
   "metadata": {},
   "outputs": [
    {
     "data": {
      "text/plain": [
       "NodeDataView({1: {'contracted': True, 'imp': 2, 'level': 10, 'contr_neighbours': 4}, 2: {'contracted': True, 'imp': 3, 'level': 10, 'contr_neighbours': 4}, 3: {'contracted': True, 'imp': 14, 'level': 9, 'contr_neighbours': 6}, 4: {'contracted': True, 'imp': 4, 'level': 10, 'contr_neighbours': 3}, 5: {'contracted': True, 'imp': 5, 'level': 7, 'contr_neighbours': 3}, 6: {'contracted': True, 'imp': 11, 'level': 9, 'contr_neighbours': 5}, 7: {'contracted': True, 'imp': 6, 'level': 10, 'contr_neighbours': 3}, 8: {'contracted': True, 'imp': 12, 'level': 10, 'contr_neighbours': 5}, 9: {'contracted': True, 'imp': 13, 'level': 10, 'contr_neighbours': 6}, 10: {'contracted': True, 'imp': 9, 'level': 9, 'contr_neighbours': 4}, 11: {'contracted': True, 'imp': 7, 'level': 6, 'contr_neighbours': 3}, 12: {'contracted': True, 'imp': 8, 'level': 9, 'contr_neighbours': 3}, 13: {'contracted': True, 'imp': 10, 'level': 9, 'contr_neighbours': 7}, 14: {'contracted': True, 'imp': 1, 'level': 4, 'contr_neighbours': 2}})"
      ]
     },
     "execution_count": 16,
     "metadata": {},
     "output_type": "execute_result"
    }
   ],
   "source": [
    "G.nodes.data()"
   ]
  },
  {
   "cell_type": "code",
   "execution_count": 17,
   "metadata": {},
   "outputs": [
    {
     "name": "stdout",
     "output_type": "stream",
     "text": [
      "# edges before 26\n",
      "# edges after 29\n"
     ]
    }
   ],
   "source": [
    "edges_after = [*G.edges()]\n",
    "print(\"# edges before\", len(edges_before))\n",
    "print(\"# edges after\", len(edges_after))"
   ]
  },
  {
   "cell_type": "code",
   "execution_count": 18,
   "metadata": {},
   "outputs": [
    {
     "data": {
      "text/plain": [
       "[(1, 13), (2, 13), (9, 13)]"
      ]
     },
     "execution_count": 18,
     "metadata": {},
     "output_type": "execute_result"
    }
   ],
   "source": [
    "added_edges = list(set(edges_after) - set(edges_before))\n",
    "added_edges"
   ]
  },
  {
   "cell_type": "code",
   "execution_count": 20,
   "metadata": {},
   "outputs": [
    {
     "data": {
      "image/png": "[encoded data removed]",
      "text/plain": [
       "<matplotlib.figure.Figure at 0x7f02d2996c88>"
      ]
     },
     "metadata": {},
     "output_type": "display_data"
    }
   ],
   "source": [
    "colors = ['r' if edge in added_edges else 'k' for edge in G.edges()] \n",
    "nx.draw(G, with_labels=True, edge_color=colors)"
   ]
  },
  {
   "cell_type": "code",
   "execution_count": 21,
   "metadata": {},
   "outputs": [],
   "source": [
    "source = 13\n",
    "destination = 10\n"
   ]
  },
  {
   "cell_type": "code",
   "execution_count": 22,
   "metadata": {},
   "outputs": [
    {
     "name": "stdout",
     "output_type": "stream",
     "text": [
      "shortest distance:\n",
      "\n",
      "6\n",
      "route from target:\n",
      "\n",
      "[10, 9]\n",
      "route from source:\n",
      "\n",
      "[13, 9]\n",
      "entire route:\n",
      "\n",
      "[13, 9, 10]\n",
      "we have skipped 8 nodes from a graph with 14, \n",
      "    so we have skipped 57.14285714285714% of the nodes in our search space.\n"
     ]
    }
   ],
   "source": [
    "See_full_route(G, source, destination)"
   ]
  },
  {
   "cell_type": "code",
   "execution_count": 23,
   "metadata": {},
   "outputs": [
    {
     "data": {
      "text/plain": [
       "(6, [13, 9, 10])"
      ]
     },
     "execution_count": 23,
     "metadata": {},
     "output_type": "execute_result"
    }
   ],
   "source": [
    "from networkx.algorithms.shortest_paths.weighted import single_source_dijkstra\n",
    "single_source_dijkstra(G, source, destination)"
   ]
  },
  {
   "cell_type": "code",
   "execution_count": 29,
   "metadata": {},
   "outputs": [
    {
     "name": "stdout",
     "output_type": "stream",
     "text": [
      "1 {'contracted': True, 'imp': 2, 'level': 10, 'contr_neighbours': 4}\n",
      "2 {'contracted': True, 'imp': 3, 'level': 10, 'contr_neighbours': 4}\n",
      "3 {'contracted': True, 'imp': 14, 'level': 9, 'contr_neighbours': 6}\n",
      "4 {'contracted': True, 'imp': 4, 'level': 10, 'contr_neighbours': 3}\n",
      "5 {'contracted': True, 'imp': 5, 'level': 7, 'contr_neighbours': 3}\n",
      "6 {'contracted': True, 'imp': 11, 'level': 9, 'contr_neighbours': 5}\n",
      "7 {'contracted': True, 'imp': 6, 'level': 10, 'contr_neighbours': 3}\n",
      "8 {'contracted': True, 'imp': 12, 'level': 10, 'contr_neighbours': 5}\n",
      "9 {'contracted': True, 'imp': 13, 'level': 10, 'contr_neighbours': 6}\n",
      "10 {'contracted': True, 'imp': 9, 'level': 9, 'contr_neighbours': 4}\n",
      "11 {'contracted': True, 'imp': 7, 'level': 6, 'contr_neighbours': 3}\n",
      "12 {'contracted': True, 'imp': 8, 'level': 9, 'contr_neighbours': 3}\n",
      "13 {'contracted': True, 'imp': 10, 'level': 9, 'contr_neighbours': 7}\n",
      "14 {'contracted': True, 'imp': 1, 'level': 4, 'contr_neighbours': 2}\n"
     ]
    }
   ],
   "source": [
    "for i in range(len(G.nodes)):\n",
    "    print(i+1,G.nodes[i+1])"
   ]
  }
 ],
 "metadata": {
  "interpreter": {
   "hash": "9e996d6baa0684b07314fc1cbb16fc8f623a45b0e34577a9ff8890146adc5ba9"
  },
  "kernelspec": {
   "display_name": "Python 3.6.0 ('tensorflow')",
   "language": "python",
   "name": "python3"
  },
  "language_info": {
   "codemirror_mode": {
    "name": "ipython",
    "version": 3
   },
   "file_extension": ".py",
   "mimetype": "text/x-python",
   "name": "python",
   "nbconvert_exporter": "python",
   "pygments_lexer": "ipython3",
   "version": "3.6.0"
  },
  "orig_nbformat": 4
 },
 "nbformat": 4,
 "nbformat_minor": 2
}
